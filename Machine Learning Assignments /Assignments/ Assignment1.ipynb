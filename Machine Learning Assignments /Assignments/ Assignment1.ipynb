{
 "cells": [
  {
   "cell_type": "code",
   "execution_count": null,
   "id": "62554b33",
   "metadata": {},
   "outputs": [],
   "source": [
    "1. In the below elements which of them are values or an expression? eg:- values can be integer or string and expressions will be mathematical operators.\n",
    "* \n",
    "'hello'\n",
    "-87.8\n",
    "- \n",
    "/ \n",
    "+\t\n",
    "6 \n",
    "\n",
    "Answers: Values are ‘hello’, 6, -87.8 and Expression are: - +/*\n",
    "\n",
    "2. What is the difference between string and variable?\n",
    "Answer : Strings are the words we use while only alphabetic writing  EG: black , white, etc\n",
    "Variable is which holds the data as it can be called to store.\n",
    "\n",
    "3. Describe three different data types.\n",
    "Ans: Expression , String, numbers , float, date , time,array.\n",
    "\n",
    "4. What is an expression made up of? What do all expressions do?\n",
    "Ans: it is made up of variables, operators. Expression(+,-,/,*)\n",
    "Expression uses to  (+) addition ,(-) substraction, (*)multiply, (/) divide\n",
    "\n",
    "5. This assignment statements, like spam = 10. What is the difference between an expression and a statement?\n",
    "Ans: A Statement is a action or a command that does something. Ex: If-Else,Loops..etc\n",
    "A Expression is a combination of values, operators and literals which yields something.\n",
    "\n",
    "6. After running the following code, what does the variable bacon contain?\n",
    "bacon = 22\n",
    "bacon + 1\n",
    "\n",
    "Ans: 23\n",
    "\n",
    "7. What should the values of the following two terms be?\n",
    "'spam' + 'spamspam'\n",
    "'spam' * 3\n",
    "\n",
    "Ans: spamspamspam\n",
    "\n",
    "8. Why is eggs a valid variable name while 100 is invalid?\n",
    "Ans : Because variable name cant start with number.\n",
    "\n",
    "9. What three functions can be used to get the integer, floating-point number, or string version of a value?\n",
    "Ans: int(), flt(), str()\n",
    "10. Why does this expression cause an error? How can you fix it?\n",
    "'I have eaten ' + 99 + ' burritos.'\n",
    "\n",
    "Ans : because 99 is number and it should be not a number in between strings.\n"
   ]
  }
 ],
 "metadata": {
  "kernelspec": {
   "display_name": "Python 3 (ipykernel)",
   "language": "python",
   "name": "python3"
  },
  "language_info": {
   "codemirror_mode": {
    "name": "ipython",
    "version": 3
   },
   "file_extension": ".py",
   "mimetype": "text/x-python",
   "name": "python",
   "nbconvert_exporter": "python",
   "pygments_lexer": "ipython3",
   "version": "3.9.0"
  }
 },
 "nbformat": 4,
 "nbformat_minor": 5
}
